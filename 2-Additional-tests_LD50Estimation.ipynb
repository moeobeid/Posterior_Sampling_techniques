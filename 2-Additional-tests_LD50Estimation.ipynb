{
 "cells": [
  {
   "cell_type": "code",
   "execution_count": 1,
   "id": "24cec9e4-10e3-4953-884c-fdc4a81f3be4",
   "metadata": {},
   "outputs": [
    {
     "name": "stdout",
     "output_type": "stream",
     "text": [
      "Initial LD50 guess: -0.175\n",
      "Estimated LD50 using logistic regression: -0.10925288438678499\n",
      "Estimated LD50 using additional tests: -0.10606060606060597\n"
     ]
    }
   ],
   "source": [
    "import numpy as np\n",
    "import pandas as pd\n",
    "from scipy.optimize import minimize\n",
    "\n",
    "# Define the bioassay function\n",
    "bioassay = pd.DataFrame({\n",
    "    'x': [-0.86, -0.30, -0.05, 0.73],\n",
    "    'n': [5, 5, 5, 5],\n",
    "    'y': [0, 1, 3, 5]\n",
    "})\n",
    "\n",
    "def bioassayfun(w, df):\n",
    "    # function to be optimized\n",
    "    # defines the negative log posterior = log likelihood where prior is uniform\n",
    "    z = w[0] + w[1]*df['x']\n",
    "    return -np.sum(df['y']*(z) - df['n']*np.log1p(np.exp(z))) \n",
    "\n",
    "def logl(data, a, b):\n",
    "    # defines the log likelihood\n",
    "    x, n, y = np.array(data['x']), np.array(data['n']), np.array(data['y'])\n",
    "    a = a.reshape(-1, 1)  # Reshape a to have one column\n",
    "    b = b.reshape(-1, 1)  # Reshape b to have one column\n",
    "    return np.sum(y * (a + b * x) - n * np.log1p(np.exp(a + b * x)), axis=1) # returns data points in a 1D np array\n",
    "\n",
    "# Define a function to estimate LD50\n",
    "def estimate_ld50():\n",
    "    # Initial guess for LD50\n",
    "    ld50_guess = np.median(bioassay['x'])\n",
    "    \n",
    "    # Fit a logistic regression model to the data\n",
    "    result = minimize(bioassayfun, [0, 1], args=(bioassay,), method='BFGS')\n",
    "    a, b = result.x\n",
    "    \n",
    "    # Estimate the LD50 using the logistic regression model\n",
    "    ld50_est = -a/b\n",
    "    \n",
    "    # Perform additional tests to better estimate LD50\n",
    "    doses = np.linspace(-1.5, 1.5, 100)  # Define a range of dose levels\n",
    "    responses = np.zeros_like(doses)  # Initialize an array to store the responses\n",
    "    \n",
    "    for i, dose in enumerate(doses):\n",
    "        new_data = pd.DataFrame({\n",
    "            'x': [dose],\n",
    "            'n': [5],\n",
    "            'y': [0]\n",
    "        })\n",
    "        \n",
    "        # Compute the response at each dose level using the logistic regression model\n",
    "        log_odds = a + b * new_data['x']\n",
    "        prob = 1 / (1 + np.exp(-log_odds))\n",
    "        responses[i] = prob\n",
    "        \n",
    "    # Estimate LD50 using the additional test results\n",
    "    ld50_new = doses[np.abs(responses - 0.5).argmin()]\n",
    "    \n",
    "    return ld50_guess, ld50_est, ld50_new\n",
    "\n",
    "# Test the function\n",
    "ld50_guess, ld50_est, ld50_new = estimate_ld50()\n",
    "print(f\"Initial LD50 guess: {ld50_guess}\")\n",
    "print(f\"Estimated LD50 using logistic regression: {ld50_est}\")\n",
    "print(f\"Estimated LD50 using additional tests: {ld50_new}\")\n"
   ]
  }
 ],
 "metadata": {
  "kernelspec": {
   "display_name": "Python 3 (ipykernel)",
   "language": "python",
   "name": "python3"
  },
  "language_info": {
   "codemirror_mode": {
    "name": "ipython",
    "version": 3
   },
   "file_extension": ".py",
   "mimetype": "text/x-python",
   "name": "python",
   "nbconvert_exporter": "python",
   "pygments_lexer": "ipython3",
   "version": "3.9.13"
  }
 },
 "nbformat": 4,
 "nbformat_minor": 5
}
